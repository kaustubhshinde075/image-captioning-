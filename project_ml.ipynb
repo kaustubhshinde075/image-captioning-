{
  "cells": [
    {
      "cell_type": "code",
      "execution_count": null,
      "id": "3e6cc71e",
      "metadata": {
        "id": "3e6cc71e"
      },
      "outputs": [],
      "source": [
        "import os\n",
        "import random\n",
        "import pickle\n",
        "import numpy as np\n",
        "from tqdm.notebook import tqdm\n",
        "\n",
        "from tensorflow.keras.applications.vgg16 import VGG16 , preprocess_input\n",
        "from tensorflow.keras.preprocessing.image import load_img , img_to_array\n",
        "from tensorflow.keras.preprocessing.text import Tokenizer\n",
        "from tensorflow.keras.preprocessing.sequence import pad_sequences\n",
        "from tensorflow.keras.models import Model\n",
        "from tensorflow.keras.utils import to_categorical, plot_model\n",
        "from tensorflow.keras.layers import Input , Dense , LSTM , Embedding , Dropout , add\n",
        "from tensorflow.keras.layers import Attention, Concatenate, RepeatVector, Permute\n",
        "from tensorflow.keras.layers import MultiHeadAttention, LayerNormalization, GlobalAveragePooling1D, Dense"
      ]
    },
    {
      "cell_type": "code",
      "execution_count": null,
      "id": "ol4H9MuRTuD_",
      "metadata": {
        "id": "ol4H9MuRTuD_"
      },
      "outputs": [],
      "source": [
        "from google.colab import drive\n",
        "drive.mount('/content/drive')\n",
        "\n",
        "os.environ['KAGGLE_CONFIG_DIR'] = '/content/drive/MyDrive/kaggle'"
      ]
    },
    {
      "cell_type": "code",
      "execution_count": null,
      "id": "Bl0vV5TrUpTw",
      "metadata": {
        "id": "Bl0vV5TrUpTw"
      },
      "outputs": [],
      "source": [
        "!kaggle datasets download -d adityajn105/flickr8k\n",
        "!kaggle datasets download -d hsankesara/flickr-image-dataset\n",
        "\n",
        "!unzip -q flickr8k.zip -d flickr8k\n",
        "!unzip -q flickr-image-dataset.zip -d flickr30k\n",
        "\n",
        "!ls flickr8k\n",
        "!ls flickr30k"
      ]
    },
    {
      "cell_type": "code",
      "execution_count": null,
      "id": "6568a076",
      "metadata": {
        "id": "6568a076"
      },
      "outputs": [],
      "source": [
        "BASE_DIR = 'flickr8k'\n",
        "BASE_DIR1 = 'flickr30k'"
      ]
    },
    {
      "cell_type": "code",
      "execution_count": null,
      "id": "e3753ab7",
      "metadata": {
        "id": "e3753ab7"
      },
      "outputs": [],
      "source": [
        "model = VGG16()\n",
        "\n",
        "model = Model(inputs = model.inputs , outputs = model.layers[-2].output)\n",
        "\n",
        "plot_model(model, to_file='vgg16.png', show_shapes=True, dpi=48)"
      ]
    },
    {
      "cell_type": "code",
      "execution_count": null,
      "id": "nl1asU3ndk7q",
      "metadata": {
        "id": "nl1asU3ndk7q"
      },
      "outputs": [],
      "source": [
        "from PIL import Image\n",
        "\n",
        "image = Image.open('vgg16.png')\n",
        "\n",
        "width, height = image.size\n",
        "\n",
        "half_height = height // 2\n",
        "top_half = image.crop((0, 0, width, half_height))\n",
        "bottom_half = image.crop((0, half_height, width, height))\n",
        "\n",
        "top_half.save('top_half.png')\n",
        "bottom_half.save('bottom_half.png')\n",
        "\n",
        "import cv2\n",
        "\n",
        "top_half_path = 'top_half.png'\n",
        "bottom_half_path = 'bottom_half.png'\n",
        "\n",
        "top_half = cv2.imread(top_half_path)\n",
        "bottom_half = cv2.imread(bottom_half_path)\n",
        "\n",
        "bottom_half_resized = cv2.resize(bottom_half, (top_half.shape[1], top_half.shape[0]))\n",
        "\n",
        "new_image = cv2.hconcat([top_half, bottom_half_resized])\n",
        "\n",
        "cv2.imwrite('concatenated_image.png', new_image)\n"
      ]
    },
    {
      "cell_type": "code",
      "execution_count": null,
      "id": "1r-EaWZyIZf-",
      "metadata": {
        "id": "1r-EaWZyIZf-"
      },
      "outputs": [],
      "source": [
        "import tensorflow as tf\n",
        "\n",
        "class PositionalEncoding(tf.keras.layers.Layer):\n",
        "    def __init__(self, max_len, d_model):\n",
        "        super(PositionalEncoding, self).__init__()\n",
        "        self.max_len = max_len\n",
        "        self.d_model = d_model\n",
        "\n",
        "    def get_angles(self, pos, i, d_model):\n",
        "        angle_rates = 1 / tf.pow(10000.0, (2 * tf.cast(i, tf.float32) / tf.cast(d_model, tf.float32)))\n",
        "        return pos * angle_rates\n",
        "\n",
        "    def call(self, inputs):\n",
        "        position = tf.range(0, self.max_len, delta=1, dtype=tf.float32)[:, tf.newaxis]\n",
        "        angle_rads = self.get_angles(position, tf.range(0, self.d_model, 2), self.d_model)\n",
        "\n",
        "        sines = tf.math.sin(angle_rads[:, 0::2])\n",
        "\n",
        "        cosines = tf.math.cos(angle_rads[:, 1::2])\n",
        "\n",
        "        pos_encoding = tf.concat([sines, cosines], axis=-1)\n",
        "\n",
        "        pos_encoding = tf.expand_dims(pos_encoding, axis=0)\n",
        "\n",
        "        return tf.concat([inputs, pos_encoding], axis=-1)\n"
      ]
    },
    {
      "cell_type": "code",
      "execution_count": null,
      "id": "37926522",
      "metadata": {
        "colab": {
          "base_uri": "https://localhost:8080/",
          "height": 49,
          "referenced_widgets": [
            "093aff35f9fd4ceaa3ec39ce378aa7a4",
            "ea613f5012ca4feeb4a36507703262b7",
            "9caeff1bde814d68832024e648b2ea4e",
            "b72a55a53d504565937c378e23434cf6",
            "f804eb8ecc8843009eb31fc1d1a63e6c",
            "8fc486a8c5f043e689f31b392ee98c50",
            "0c0be42720f14d8eaec23424162f9d19",
            "ab31fc16744f4a8497a3471c286436af",
            "f7bee37b43c94f2a9aef5e24a04ef9ea",
            "ab14d4465f3c4428afd212f9df6e8050",
            "8bdb866449dc48d3be92170f5dc6f0fe"
          ]
        },
        "id": "37926522",
        "outputId": "7a5440b1-4156-4615-e080-40dfd51e6299"
      },
      "outputs": [],
      "source": [
        "features = {}\n",
        "directory = os.path.join(BASE_DIR, 'Images')\n",
        "\n",
        "for img_name in tqdm(os.listdir(directory)):\n",
        "\n",
        "    img_path = directory + '/' + img_name\n",
        "    image = load_img(img_path, target_size=(224, 224))\n",
        "\n",
        "    image = img_to_array(image)\n",
        "\n",
        "    image = image.reshape((1, image.shape[0], image.shape[1], image.shape[2]))\n",
        "\n",
        "    image = preprocess_input(image)\n",
        "\n",
        "    feature = model.predict(image, verbose=0)\n",
        "\n",
        "    image_id = img_name.split('.')[0]\n",
        "\n",
        "    features[image_id] = feature"
      ]
    },
    {
      "cell_type": "code",
      "execution_count": null,
      "id": "1b40286d",
      "metadata": {
        "id": "1b40286d"
      },
      "outputs": [],
      "source": [
        "pickle.dump(features, open(os.path.join('features.pkl'), 'wb'))"
      ]
    },
    {
      "cell_type": "code",
      "execution_count": null,
      "id": "fdf6e4ad",
      "metadata": {
        "id": "fdf6e4ad"
      },
      "outputs": [],
      "source": [
        "with open(os.path.join('features.pkl'), 'rb') as f:\n",
        "    features = pickle.load(f)"
      ]
    },
    {
      "cell_type": "code",
      "execution_count": null,
      "id": "fada295a",
      "metadata": {
        "id": "fada295a"
      },
      "outputs": [],
      "source": [
        "with open(os.path.join(BASE_DIR, 'captions.txt'), 'r') as f:\n",
        "    next(f)\n",
        "    captions_doc = f.read()"
      ]
    },
    {
      "cell_type": "code",
      "execution_count": null,
      "id": "e3adba9c",
      "metadata": {
        "colab": {
          "base_uri": "https://localhost:8080/",
          "height": 49,
          "referenced_widgets": [
            "736b7c2caee942eeb44098e7e0bab273",
            "704d48ece81a457e968ea106dffd3137",
            "a7eeee8650664bf499d2769747060204",
            "4417c6a36cee4dc4bcdcd939f561ab67",
            "d6e96c30726540ecb1ac4622c696970f",
            "dbc135c3b26c4fb4856f9938be5f9082",
            "1cc27130d56e4c99b990d3b56e54870e",
            "52346d9e9a4340638026c4db32c9ca08",
            "40ad1861e10d40469b5c16f41a030d18",
            "c0e172c19e814941945692463018f306",
            "2b0306349c484fa1bee6d5859f52bb2d"
          ]
        },
        "id": "e3adba9c",
        "outputId": "00d2f7e3-712d-4440-dcc1-06c342ddc4a0"
      },
      "outputs": [],
      "source": [
        "mapping = {}\n",
        "\n",
        "for line in tqdm(captions_doc.split('\\n')):\n",
        "\n",
        "    tokens = line.split(',')\n",
        "    if len(line) < 2:\n",
        "        continue\n",
        "    image_id, caption = tokens[0], tokens[1:]\n",
        "\n",
        "    image_id = image_id.split('.')[0]\n",
        "\n",
        "    caption = \" \".join(caption)\n",
        "\n",
        "    if image_id not in mapping:\n",
        "        mapping[image_id] = []\n",
        "\n",
        "    mapping[image_id].append(caption)"
      ]
    },
    {
      "cell_type": "code",
      "execution_count": null,
      "id": "09ae4d8a",
      "metadata": {
        "colab": {
          "base_uri": "https://localhost:8080/"
        },
        "id": "09ae4d8a",
        "outputId": "dc7c0b2e-5e73-47bb-d562-442455e90f53"
      },
      "outputs": [],
      "source": [
        "len(mapping)"
      ]
    },
    {
      "cell_type": "code",
      "execution_count": null,
      "id": "5f95ae68",
      "metadata": {
        "id": "5f95ae68"
      },
      "outputs": [],
      "source": [
        "def clean(mapping):\n",
        "    for key, captions in mapping.items():\n",
        "        for i in range(len(captions)):\n",
        "\n",
        "            caption = captions[i]\n",
        "\n",
        "            caption = caption.lower()\n",
        "\n",
        "            caption = caption.replace('[^A-Za-z]', '')\n",
        "\n",
        "            caption = caption.replace('\\s+', ' ')\n",
        "\n",
        "            caption = 'startseq ' + \" \".join([word for word in caption.split() if len(word)>1]) + ' endseq'\n",
        "            captions[i] = caption"
      ]
    },
    {
      "cell_type": "code",
      "execution_count": null,
      "id": "4cb2551f",
      "metadata": {
        "id": "4cb2551f"
      },
      "outputs": [],
      "source": [
        "mapping['1000268201_693b08cb0e']"
      ]
    },
    {
      "cell_type": "code",
      "execution_count": null,
      "id": "c76ba8a4",
      "metadata": {
        "id": "c76ba8a4"
      },
      "outputs": [],
      "source": [
        "clean(mapping)"
      ]
    },
    {
      "cell_type": "code",
      "execution_count": null,
      "id": "d5f4637d",
      "metadata": {
        "id": "d5f4637d"
      },
      "outputs": [],
      "source": [
        "mapping['1000268201_693b08cb0e']"
      ]
    },
    {
      "cell_type": "code",
      "execution_count": null,
      "id": "538c1cc0",
      "metadata": {
        "id": "538c1cc0"
      },
      "outputs": [],
      "source": [
        "all_captions = []\n",
        "for key in mapping:\n",
        "    for caption in mapping[key]:\n",
        "        all_captions.append(caption)"
      ]
    },
    {
      "cell_type": "code",
      "execution_count": null,
      "id": "3c2fc747",
      "metadata": {
        "id": "3c2fc747"
      },
      "outputs": [],
      "source": [
        "len(all_captions)"
      ]
    },
    {
      "cell_type": "code",
      "execution_count": null,
      "id": "758dfbf7",
      "metadata": {
        "id": "758dfbf7"
      },
      "outputs": [],
      "source": [
        "all_captions[:10]"
      ]
    },
    {
      "cell_type": "code",
      "execution_count": null,
      "id": "c0e92c58",
      "metadata": {
        "id": "c0e92c58"
      },
      "outputs": [],
      "source": [
        "tokenizer = Tokenizer()\n",
        "tokenizer.fit_on_texts(all_captions)\n",
        "vocab_size = len(tokenizer.word_index) + 1"
      ]
    },
    {
      "cell_type": "code",
      "execution_count": null,
      "id": "98b12aec",
      "metadata": {
        "id": "98b12aec"
      },
      "outputs": [],
      "source": [
        "vocab_size"
      ]
    },
    {
      "cell_type": "code",
      "execution_count": null,
      "id": "441cc999",
      "metadata": {
        "id": "441cc999"
      },
      "outputs": [],
      "source": [
        "max_length = max(len(caption.split()) for caption in all_captions)\n",
        "max_length"
      ]
    },
    {
      "cell_type": "code",
      "execution_count": null,
      "id": "b200960d",
      "metadata": {
        "id": "b200960d"
      },
      "outputs": [],
      "source": [
        "image_ids = list(mapping.keys())\n",
        "split = int(len(image_ids) * 0.90)\n",
        "train = image_ids[:split]\n",
        "test = image_ids[split:]\n",
        "validation , test = test[:len(test)//2] , test[len(test)//2:]"
      ]
    },
    {
      "cell_type": "code",
      "execution_count": null,
      "id": "f1504997",
      "metadata": {
        "id": "f1504997"
      },
      "outputs": [],
      "source": [
        "def data_generator(data_keys, mapping, features, tokenizer, max_length, vocab_size, batch_size):\n",
        "\n",
        "    X1, X2, y = list(), list(), list()\n",
        "    n = 0\n",
        "    while 1:\n",
        "        for key in data_keys:\n",
        "            n += 1\n",
        "            captions = mapping[key]\n",
        "\n",
        "            for caption in captions:\n",
        "\n",
        "                seq = tokenizer.texts_to_sequences([caption])[0]\n",
        "\n",
        "                for i in range(1, len(seq)):\n",
        "\n",
        "                    in_seq, out_seq = seq[:i], seq[i]\n",
        "\n",
        "                    in_seq = pad_sequences([in_seq], maxlen=max_length)[0]\n",
        "\n",
        "                    out_seq = to_categorical([out_seq],num_classes=vocab_size)[0]\n",
        "\n",
        "                    X1.append(features[key][0])\n",
        "                    X2.append(in_seq)\n",
        "                    y.append(out_seq)\n",
        "            if n == batch_size:\n",
        "                X1, X2, y = np.array(X1), np.array(X2), np.array(y)\n",
        "                yield [X1, X2], y\n",
        "                X1, X2, y = list(), list(), list()\n",
        "                n = 0"
      ]
    },
    {
      "cell_type": "code",
      "execution_count": null,
      "id": "0waneKqLQnT9",
      "metadata": {
        "id": "0waneKqLQnT9"
      },
      "outputs": [],
      "source": [
        "import tensorflow as tf\n",
        "from keras.losses import categorical_crossentropy\n",
        "from keras.optimizers import Adam\n",
        "\n",
        "def custom_loss(y_true, y_pred):\n",
        "\n",
        "    target_shape = tf.shape(y_true)\n",
        "    target_shape = tf.concat([target_shape[:1], [35, 8485]], axis=0)\n",
        "    y_true = tf.reshape(y_true, target_shape)\n",
        "\n",
        "    loss = categorical_crossentropy(y_true, y_pred)\n",
        "    return loss"
      ]
    },
    {
      "cell_type": "code",
      "execution_count": null,
      "id": "d80a967c",
      "metadata": {
        "id": "d80a967c"
      },
      "outputs": [],
      "source": [
        "inputs1 = Input(shape=(4096,))\n",
        "fe1 = Dropout(0.4)(inputs1)\n",
        "fe2 = Dense(256, activation='relu')(fe1)\n",
        "\n",
        "inputs2 = Input(shape=(max_length,))\n",
        "se1 = Embedding(vocab_size, 256, mask_zero=True)(inputs2)\n",
        "se2 = Dropout(0.4)(se1)\n",
        "se3 = LSTM(256)(se2)\n",
        "\n",
        "decoder1 = add([fe2, se3])\n",
        "decoder2 = Dense(256, activation='relu')(decoder1)\n",
        "outputs = Dense(vocab_size, activation='softmax')(decoder2)\n",
        "\n",
        "model1 = Model(inputs=[inputs1, inputs2], outputs=outputs)\n",
        "model1.compile(loss='categorical_crossentropy', optimizer='adam')\n",
        "\n",
        "plot_model(model1, show_shapes=True)"
      ]
    },
    {
      "cell_type": "code",
      "execution_count": null,
      "id": "mpCxOHyP-_eG",
      "metadata": {
        "id": "mpCxOHyP-_eG"
      },
      "outputs": [],
      "source": [
        "def transformer_model(max_length, vocab_size):\n",
        "    inputs = Input(shape=(max_length,))\n",
        "    embedding_layer = Embedding(vocab_size, 256)(inputs)\n",
        "    positional_encoding = PositionalEncoding(max_length, 256)(embedding_layer)\n",
        "\n",
        "    attention = MultiHeadAttention(num_heads=8, key_dim=256)(positional_encoding, positional_encoding)\n",
        "    attention = LayerNormalization(epsilon=1e-6)(attention + positional_encoding)\n",
        "\n",
        "    pooling_output = GlobalAveragePooling1D()(attention)\n",
        "    outputs = Dense(vocab_size, activation='softmax')(pooling_output)\n",
        "\n",
        "    model = Model(inputs=inputs, outputs=outputs)\n",
        "    return model\n",
        "\n",
        "model2 = transformer_model(max_length, vocab_size)\n",
        "model2.compile(loss='categorical_crossentropy', optimizer='adam')\n",
        "\n",
        "plot_model(model2, show_shapes=True)\n"
      ]
    },
    {
      "cell_type": "code",
      "execution_count": null,
      "id": "S-E4nZ9SiiCi",
      "metadata": {
        "id": "S-E4nZ9SiiCi"
      },
      "outputs": [],
      "source": [
        "import tensorflow as tf\n",
        "escall = tf.keras.callbacks.EarlyStopping(\n",
        "    monitor='val_loss',\n",
        "    patience=5\n",
        ")"
      ]
    },
    {
      "cell_type": "code",
      "execution_count": null,
      "id": "5e21be89",
      "metadata": {
        "id": "5e21be89"
      },
      "outputs": [],
      "source": [
        "epochs = 50\n",
        "batch_size = 32\n",
        "steps = len(train) // batch_size\n",
        "\n",
        "generator = data_generator(train, mapping, features, tokenizer, max_length, vocab_size, batch_size)\n",
        "validator = data_generator(validation, mapping, features, tokenizer, max_length, vocab_size, batch_size)\n"
      ]
    },
    {
      "cell_type": "code",
      "execution_count": null,
      "id": "fHOT0HX4jlMc",
      "metadata": {
        "id": "fHOT0HX4jlMc"
      },
      "outputs": [],
      "source": [
        "history =  model1.fit(generator, epochs=epochs,validation_data = validator ,validation_steps=int(0.15 * len(test)),callbacks = [escall],  steps_per_epoch=steps, verbose=1)\n"
      ]
    },
    {
      "cell_type": "code",
      "execution_count": null,
      "id": "18264643",
      "metadata": {
        "id": "18264643"
      },
      "outputs": [],
      "source": [
        "model1.save('best_model.h5')"
      ]
    },
    {
      "cell_type": "code",
      "execution_count": null,
      "id": "NUcgLOBcnsOh",
      "metadata": {
        "id": "NUcgLOBcnsOh"
      },
      "outputs": [],
      "source": [
        "from tensorflow.keras.models import load_model\n",
        "\n",
        "model = load_model('best_model.h5')\n"
      ]
    },
    {
      "cell_type": "code",
      "execution_count": null,
      "id": "a538f8c9",
      "metadata": {
        "id": "a538f8c9"
      },
      "outputs": [],
      "source": [
        "def idx_to_word(integer, tokenizer):\n",
        "    for word, index in tokenizer.word_index.items():\n",
        "        if index == integer:\n",
        "            return word\n",
        "    return None"
      ]
    },
    {
      "cell_type": "code",
      "execution_count": null,
      "id": "14f96de3",
      "metadata": {
        "id": "14f96de3"
      },
      "outputs": [],
      "source": [
        "def predict_caption(model, image, tokenizer, max_length):\n",
        "\n",
        "    in_text = 'startseq'\n",
        "\n",
        "    for i in range(max_length):\n",
        "\n",
        "        sequence = tokenizer.texts_to_sequences([in_text])[0]\n",
        "\n",
        "        sequence = pad_sequences([sequence], max_length)\n",
        "\n",
        "        yhat = model1.predict([image, sequence], verbose=0)\n",
        "\n",
        "        yhat = np.argmax(yhat)\n",
        "\n",
        "        word = idx_to_word(yhat, tokenizer)\n",
        "\n",
        "        if word is None:\n",
        "            break\n",
        "\n",
        "        in_text += \" \" + word\n",
        "\n",
        "        if word == 'endseq':\n",
        "            break\n",
        "    return in_text"
      ]
    },
    {
      "cell_type": "code",
      "execution_count": null,
      "id": "11036380",
      "metadata": {
        "id": "11036380"
      },
      "outputs": [],
      "source": [
        "from nltk.translate.bleu_score import corpus_bleu\n",
        "from nltk.translate import meteor_score\n",
        "\n",
        "actual, predicted = list(), list()\n",
        "\n",
        "for key in tqdm(test):\n",
        "\n",
        "    captions = mapping[key]\n",
        "\n",
        "    y_pred = predict_caption(model1, features[key], tokenizer, max_length)\n",
        "\n",
        "    actual_captions = [caption.split() for caption in captions]\n",
        "    y_pred = y_pred.split()\n",
        "\n",
        "    actual.append(actual_captions)\n",
        "    predicted.append(y_pred)\n",
        "\n",
        "print(\"BLEU-1: %f\" % corpus_bleu(actual, predicted, weights=(1.0, 0, 0, 0)))\n",
        "print(\"BLEU-2: %f\" % corpus_bleu(actual, predicted, weights=(0.5, 0.5, 0, 0)))\n",
        "print(\"Meteor %f\" % meteor_score.meteor_score(actual, predicted))\n"
      ]
    },
    {
      "cell_type": "code",
      "execution_count": null,
      "id": "064936de",
      "metadata": {
        "id": "064936de"
      },
      "outputs": [],
      "source": [
        "from PIL import Image\n",
        "import matplotlib.pyplot as plt\n",
        "def generate_caption(image_name):\n",
        "\n",
        "    image_id = image_name.split('.')[0]\n",
        "    img_path = os.path.join(BASE_DIR, \"Images\", image_name)\n",
        "    image = Image.open(img_path)\n",
        "\n",
        "\n",
        "    y_pred = predict_caption(model, features[image_id], tokenizer, max_length)\n",
        "    print(y_pred)\n",
        "    plt.imshow(image)"
      ]
    },
    {
      "cell_type": "code",
      "execution_count": null,
      "id": "ki6DgIv5A8Dt",
      "metadata": {
        "id": "ki6DgIv5A8Dt"
      },
      "outputs": [],
      "source": [
        "folder_path = \"flickr8k/Images\"\n",
        "all_images = []\n",
        "\n",
        "files = os.listdir(folder_path)\n",
        "\n",
        "all_images.extend(files)\n",
        "\n",
        "def x(choice):\n",
        "    image_id = all_images[choice]\n",
        "    return image_id\n"
      ]
    },
    {
      "cell_type": "code",
      "execution_count": null,
      "id": "04e8b6ab",
      "metadata": {
        "id": "04e8b6ab"
      },
      "outputs": [],
      "source": [
        "generate_caption(\"1001773457_577c3a7d70.jpg\")"
      ]
    },
    {
      "cell_type": "code",
      "execution_count": null,
      "id": "CxveQEF7jXey",
      "metadata": {
        "id": "CxveQEF7jXey"
      },
      "outputs": [],
      "source": []
    }
  ],
  "metadata": {
    "colab": {
      "provenance": []
    },
    "kernelspec": {
      "display_name": "Python 3",
      "name": "python3"
    },
    "language_info": {
      "codemirror_mode": {
        "name": "ipython",
        "version": 3
      },
      "file_extension": ".py",
      "mimetype": "text/x-python",
      "name": "python",
      "nbconvert_exporter": "python",
      "pygments_lexer": "ipython3",
      "version": "3.7.12"
    },
    "papermill": {
      "default_parameters": {},
      "duration": 2360.884658,
      "end_time": "2023-01-11T20:02:10.626139",
      "environment_variables": {},
      "exception": null,
      "input_path": "__notebook__.ipynb",
      "output_path": "__notebook__.ipynb",
      "parameters": {},
      "start_time": "2023-01-11T19:22:49.741481",
      "version": "2.3.4"
    },
    "widgets": {
      "application/vnd.jupyter.widget-state+json": {
        "093aff35f9fd4ceaa3ec39ce378aa7a4": {
          "model_module": "@jupyter-widgets/controls",
          "model_module_version": "1.5.0",
          "model_name": "HBoxModel",
          "state": {
            "_dom_classes": [],
            "_model_module": "@jupyter-widgets/controls",
            "_model_module_version": "1.5.0",
            "_model_name": "HBoxModel",
            "_view_count": null,
            "_view_module": "@jupyter-widgets/controls",
            "_view_module_version": "1.5.0",
            "_view_name": "HBoxView",
            "box_style": "",
            "children": [
              "IPY_MODEL_ea613f5012ca4feeb4a36507703262b7",
              "IPY_MODEL_9caeff1bde814d68832024e648b2ea4e",
              "IPY_MODEL_b72a55a53d504565937c378e23434cf6"
            ],
            "layout": "IPY_MODEL_f804eb8ecc8843009eb31fc1d1a63e6c"
          }
        },
        "0c0be42720f14d8eaec23424162f9d19": {
          "model_module": "@jupyter-widgets/controls",
          "model_module_version": "1.5.0",
          "model_name": "DescriptionStyleModel",
          "state": {
            "_model_module": "@jupyter-widgets/controls",
            "_model_module_version": "1.5.0",
            "_model_name": "DescriptionStyleModel",
            "_view_count": null,
            "_view_module": "@jupyter-widgets/base",
            "_view_module_version": "1.2.0",
            "_view_name": "StyleView",
            "description_width": ""
          }
        },
        "1cc27130d56e4c99b990d3b56e54870e": {
          "model_module": "@jupyter-widgets/controls",
          "model_module_version": "1.5.0",
          "model_name": "DescriptionStyleModel",
          "state": {
            "_model_module": "@jupyter-widgets/controls",
            "_model_module_version": "1.5.0",
            "_model_name": "DescriptionStyleModel",
            "_view_count": null,
            "_view_module": "@jupyter-widgets/base",
            "_view_module_version": "1.2.0",
            "_view_name": "StyleView",
            "description_width": ""
          }
        },
        "2b0306349c484fa1bee6d5859f52bb2d": {
          "model_module": "@jupyter-widgets/controls",
          "model_module_version": "1.5.0",
          "model_name": "DescriptionStyleModel",
          "state": {
            "_model_module": "@jupyter-widgets/controls",
            "_model_module_version": "1.5.0",
            "_model_name": "DescriptionStyleModel",
            "_view_count": null,
            "_view_module": "@jupyter-widgets/base",
            "_view_module_version": "1.2.0",
            "_view_name": "StyleView",
            "description_width": ""
          }
        },
        "40ad1861e10d40469b5c16f41a030d18": {
          "model_module": "@jupyter-widgets/controls",
          "model_module_version": "1.5.0",
          "model_name": "ProgressStyleModel",
          "state": {
            "_model_module": "@jupyter-widgets/controls",
            "_model_module_version": "1.5.0",
            "_model_name": "ProgressStyleModel",
            "_view_count": null,
            "_view_module": "@jupyter-widgets/base",
            "_view_module_version": "1.2.0",
            "_view_name": "StyleView",
            "bar_color": null,
            "description_width": ""
          }
        },
        "4417c6a36cee4dc4bcdcd939f561ab67": {
          "model_module": "@jupyter-widgets/controls",
          "model_module_version": "1.5.0",
          "model_name": "HTMLModel",
          "state": {
            "_dom_classes": [],
            "_model_module": "@jupyter-widgets/controls",
            "_model_module_version": "1.5.0",
            "_model_name": "HTMLModel",
            "_view_count": null,
            "_view_module": "@jupyter-widgets/controls",
            "_view_module_version": "1.5.0",
            "_view_name": "HTMLView",
            "description": "",
            "description_tooltip": null,
            "layout": "IPY_MODEL_c0e172c19e814941945692463018f306",
            "placeholder": "​",
            "style": "IPY_MODEL_2b0306349c484fa1bee6d5859f52bb2d",
            "value": " 40456/40456 [00:00&lt;00:00, 208447.17it/s]"
          }
        },
        "52346d9e9a4340638026c4db32c9ca08": {
          "model_module": "@jupyter-widgets/base",
          "model_module_version": "1.2.0",
          "model_name": "LayoutModel",
          "state": {
            "_model_module": "@jupyter-widgets/base",
            "_model_module_version": "1.2.0",
            "_model_name": "LayoutModel",
            "_view_count": null,
            "_view_module": "@jupyter-widgets/base",
            "_view_module_version": "1.2.0",
            "_view_name": "LayoutView",
            "align_content": null,
            "align_items": null,
            "align_self": null,
            "border": null,
            "bottom": null,
            "display": null,
            "flex": null,
            "flex_flow": null,
            "grid_area": null,
            "grid_auto_columns": null,
            "grid_auto_flow": null,
            "grid_auto_rows": null,
            "grid_column": null,
            "grid_gap": null,
            "grid_row": null,
            "grid_template_areas": null,
            "grid_template_columns": null,
            "grid_template_rows": null,
            "height": null,
            "justify_content": null,
            "justify_items": null,
            "left": null,
            "margin": null,
            "max_height": null,
            "max_width": null,
            "min_height": null,
            "min_width": null,
            "object_fit": null,
            "object_position": null,
            "order": null,
            "overflow": null,
            "overflow_x": null,
            "overflow_y": null,
            "padding": null,
            "right": null,
            "top": null,
            "visibility": null,
            "width": null
          }
        },
        "704d48ece81a457e968ea106dffd3137": {
          "model_module": "@jupyter-widgets/controls",
          "model_module_version": "1.5.0",
          "model_name": "HTMLModel",
          "state": {
            "_dom_classes": [],
            "_model_module": "@jupyter-widgets/controls",
            "_model_module_version": "1.5.0",
            "_model_name": "HTMLModel",
            "_view_count": null,
            "_view_module": "@jupyter-widgets/controls",
            "_view_module_version": "1.5.0",
            "_view_name": "HTMLView",
            "description": "",
            "description_tooltip": null,
            "layout": "IPY_MODEL_dbc135c3b26c4fb4856f9938be5f9082",
            "placeholder": "​",
            "style": "IPY_MODEL_1cc27130d56e4c99b990d3b56e54870e",
            "value": "100%"
          }
        },
        "736b7c2caee942eeb44098e7e0bab273": {
          "model_module": "@jupyter-widgets/controls",
          "model_module_version": "1.5.0",
          "model_name": "HBoxModel",
          "state": {
            "_dom_classes": [],
            "_model_module": "@jupyter-widgets/controls",
            "_model_module_version": "1.5.0",
            "_model_name": "HBoxModel",
            "_view_count": null,
            "_view_module": "@jupyter-widgets/controls",
            "_view_module_version": "1.5.0",
            "_view_name": "HBoxView",
            "box_style": "",
            "children": [
              "IPY_MODEL_704d48ece81a457e968ea106dffd3137",
              "IPY_MODEL_a7eeee8650664bf499d2769747060204",
              "IPY_MODEL_4417c6a36cee4dc4bcdcd939f561ab67"
            ],
            "layout": "IPY_MODEL_d6e96c30726540ecb1ac4622c696970f"
          }
        },
        "8bdb866449dc48d3be92170f5dc6f0fe": {
          "model_module": "@jupyter-widgets/controls",
          "model_module_version": "1.5.0",
          "model_name": "DescriptionStyleModel",
          "state": {
            "_model_module": "@jupyter-widgets/controls",
            "_model_module_version": "1.5.0",
            "_model_name": "DescriptionStyleModel",
            "_view_count": null,
            "_view_module": "@jupyter-widgets/base",
            "_view_module_version": "1.2.0",
            "_view_name": "StyleView",
            "description_width": ""
          }
        },
        "8fc486a8c5f043e689f31b392ee98c50": {
          "model_module": "@jupyter-widgets/base",
          "model_module_version": "1.2.0",
          "model_name": "LayoutModel",
          "state": {
            "_model_module": "@jupyter-widgets/base",
            "_model_module_version": "1.2.0",
            "_model_name": "LayoutModel",
            "_view_count": null,
            "_view_module": "@jupyter-widgets/base",
            "_view_module_version": "1.2.0",
            "_view_name": "LayoutView",
            "align_content": null,
            "align_items": null,
            "align_self": null,
            "border": null,
            "bottom": null,
            "display": null,
            "flex": null,
            "flex_flow": null,
            "grid_area": null,
            "grid_auto_columns": null,
            "grid_auto_flow": null,
            "grid_auto_rows": null,
            "grid_column": null,
            "grid_gap": null,
            "grid_row": null,
            "grid_template_areas": null,
            "grid_template_columns": null,
            "grid_template_rows": null,
            "height": null,
            "justify_content": null,
            "justify_items": null,
            "left": null,
            "margin": null,
            "max_height": null,
            "max_width": null,
            "min_height": null,
            "min_width": null,
            "object_fit": null,
            "object_position": null,
            "order": null,
            "overflow": null,
            "overflow_x": null,
            "overflow_y": null,
            "padding": null,
            "right": null,
            "top": null,
            "visibility": null,
            "width": null
          }
        },
        "9caeff1bde814d68832024e648b2ea4e": {
          "model_module": "@jupyter-widgets/controls",
          "model_module_version": "1.5.0",
          "model_name": "FloatProgressModel",
          "state": {
            "_dom_classes": [],
            "_model_module": "@jupyter-widgets/controls",
            "_model_module_version": "1.5.0",
            "_model_name": "FloatProgressModel",
            "_view_count": null,
            "_view_module": "@jupyter-widgets/controls",
            "_view_module_version": "1.5.0",
            "_view_name": "ProgressView",
            "bar_style": "success",
            "description": "",
            "description_tooltip": null,
            "layout": "IPY_MODEL_ab31fc16744f4a8497a3471c286436af",
            "max": 8091,
            "min": 0,
            "orientation": "horizontal",
            "style": "IPY_MODEL_f7bee37b43c94f2a9aef5e24a04ef9ea",
            "value": 8091
          }
        },
        "a7eeee8650664bf499d2769747060204": {
          "model_module": "@jupyter-widgets/controls",
          "model_module_version": "1.5.0",
          "model_name": "FloatProgressModel",
          "state": {
            "_dom_classes": [],
            "_model_module": "@jupyter-widgets/controls",
            "_model_module_version": "1.5.0",
            "_model_name": "FloatProgressModel",
            "_view_count": null,
            "_view_module": "@jupyter-widgets/controls",
            "_view_module_version": "1.5.0",
            "_view_name": "ProgressView",
            "bar_style": "success",
            "description": "",
            "description_tooltip": null,
            "layout": "IPY_MODEL_52346d9e9a4340638026c4db32c9ca08",
            "max": 40456,
            "min": 0,
            "orientation": "horizontal",
            "style": "IPY_MODEL_40ad1861e10d40469b5c16f41a030d18",
            "value": 40456
          }
        },
        "ab14d4465f3c4428afd212f9df6e8050": {
          "model_module": "@jupyter-widgets/base",
          "model_module_version": "1.2.0",
          "model_name": "LayoutModel",
          "state": {
            "_model_module": "@jupyter-widgets/base",
            "_model_module_version": "1.2.0",
            "_model_name": "LayoutModel",
            "_view_count": null,
            "_view_module": "@jupyter-widgets/base",
            "_view_module_version": "1.2.0",
            "_view_name": "LayoutView",
            "align_content": null,
            "align_items": null,
            "align_self": null,
            "border": null,
            "bottom": null,
            "display": null,
            "flex": null,
            "flex_flow": null,
            "grid_area": null,
            "grid_auto_columns": null,
            "grid_auto_flow": null,
            "grid_auto_rows": null,
            "grid_column": null,
            "grid_gap": null,
            "grid_row": null,
            "grid_template_areas": null,
            "grid_template_columns": null,
            "grid_template_rows": null,
            "height": null,
            "justify_content": null,
            "justify_items": null,
            "left": null,
            "margin": null,
            "max_height": null,
            "max_width": null,
            "min_height": null,
            "min_width": null,
            "object_fit": null,
            "object_position": null,
            "order": null,
            "overflow": null,
            "overflow_x": null,
            "overflow_y": null,
            "padding": null,
            "right": null,
            "top": null,
            "visibility": null,
            "width": null
          }
        },
        "ab31fc16744f4a8497a3471c286436af": {
          "model_module": "@jupyter-widgets/base",
          "model_module_version": "1.2.0",
          "model_name": "LayoutModel",
          "state": {
            "_model_module": "@jupyter-widgets/base",
            "_model_module_version": "1.2.0",
            "_model_name": "LayoutModel",
            "_view_count": null,
            "_view_module": "@jupyter-widgets/base",
            "_view_module_version": "1.2.0",
            "_view_name": "LayoutView",
            "align_content": null,
            "align_items": null,
            "align_self": null,
            "border": null,
            "bottom": null,
            "display": null,
            "flex": null,
            "flex_flow": null,
            "grid_area": null,
            "grid_auto_columns": null,
            "grid_auto_flow": null,
            "grid_auto_rows": null,
            "grid_column": null,
            "grid_gap": null,
            "grid_row": null,
            "grid_template_areas": null,
            "grid_template_columns": null,
            "grid_template_rows": null,
            "height": null,
            "justify_content": null,
            "justify_items": null,
            "left": null,
            "margin": null,
            "max_height": null,
            "max_width": null,
            "min_height": null,
            "min_width": null,
            "object_fit": null,
            "object_position": null,
            "order": null,
            "overflow": null,
            "overflow_x": null,
            "overflow_y": null,
            "padding": null,
            "right": null,
            "top": null,
            "visibility": null,
            "width": null
          }
        },
        "b72a55a53d504565937c378e23434cf6": {
          "model_module": "@jupyter-widgets/controls",
          "model_module_version": "1.5.0",
          "model_name": "HTMLModel",
          "state": {
            "_dom_classes": [],
            "_model_module": "@jupyter-widgets/controls",
            "_model_module_version": "1.5.0",
            "_model_name": "HTMLModel",
            "_view_count": null,
            "_view_module": "@jupyter-widgets/controls",
            "_view_module_version": "1.5.0",
            "_view_name": "HTMLView",
            "description": "",
            "description_tooltip": null,
            "layout": "IPY_MODEL_ab14d4465f3c4428afd212f9df6e8050",
            "placeholder": "​",
            "style": "IPY_MODEL_8bdb866449dc48d3be92170f5dc6f0fe",
            "value": " 8091/8091 [11:46&lt;00:00, 10.16it/s]"
          }
        },
        "c0e172c19e814941945692463018f306": {
          "model_module": "@jupyter-widgets/base",
          "model_module_version": "1.2.0",
          "model_name": "LayoutModel",
          "state": {
            "_model_module": "@jupyter-widgets/base",
            "_model_module_version": "1.2.0",
            "_model_name": "LayoutModel",
            "_view_count": null,
            "_view_module": "@jupyter-widgets/base",
            "_view_module_version": "1.2.0",
            "_view_name": "LayoutView",
            "align_content": null,
            "align_items": null,
            "align_self": null,
            "border": null,
            "bottom": null,
            "display": null,
            "flex": null,
            "flex_flow": null,
            "grid_area": null,
            "grid_auto_columns": null,
            "grid_auto_flow": null,
            "grid_auto_rows": null,
            "grid_column": null,
            "grid_gap": null,
            "grid_row": null,
            "grid_template_areas": null,
            "grid_template_columns": null,
            "grid_template_rows": null,
            "height": null,
            "justify_content": null,
            "justify_items": null,
            "left": null,
            "margin": null,
            "max_height": null,
            "max_width": null,
            "min_height": null,
            "min_width": null,
            "object_fit": null,
            "object_position": null,
            "order": null,
            "overflow": null,
            "overflow_x": null,
            "overflow_y": null,
            "padding": null,
            "right": null,
            "top": null,
            "visibility": null,
            "width": null
          }
        },
        "d6e96c30726540ecb1ac4622c696970f": {
          "model_module": "@jupyter-widgets/base",
          "model_module_version": "1.2.0",
          "model_name": "LayoutModel",
          "state": {
            "_model_module": "@jupyter-widgets/base",
            "_model_module_version": "1.2.0",
            "_model_name": "LayoutModel",
            "_view_count": null,
            "_view_module": "@jupyter-widgets/base",
            "_view_module_version": "1.2.0",
            "_view_name": "LayoutView",
            "align_content": null,
            "align_items": null,
            "align_self": null,
            "border": null,
            "bottom": null,
            "display": null,
            "flex": null,
            "flex_flow": null,
            "grid_area": null,
            "grid_auto_columns": null,
            "grid_auto_flow": null,
            "grid_auto_rows": null,
            "grid_column": null,
            "grid_gap": null,
            "grid_row": null,
            "grid_template_areas": null,
            "grid_template_columns": null,
            "grid_template_rows": null,
            "height": null,
            "justify_content": null,
            "justify_items": null,
            "left": null,
            "margin": null,
            "max_height": null,
            "max_width": null,
            "min_height": null,
            "min_width": null,
            "object_fit": null,
            "object_position": null,
            "order": null,
            "overflow": null,
            "overflow_x": null,
            "overflow_y": null,
            "padding": null,
            "right": null,
            "top": null,
            "visibility": null,
            "width": null
          }
        },
        "dbc135c3b26c4fb4856f9938be5f9082": {
          "model_module": "@jupyter-widgets/base",
          "model_module_version": "1.2.0",
          "model_name": "LayoutModel",
          "state": {
            "_model_module": "@jupyter-widgets/base",
            "_model_module_version": "1.2.0",
            "_model_name": "LayoutModel",
            "_view_count": null,
            "_view_module": "@jupyter-widgets/base",
            "_view_module_version": "1.2.0",
            "_view_name": "LayoutView",
            "align_content": null,
            "align_items": null,
            "align_self": null,
            "border": null,
            "bottom": null,
            "display": null,
            "flex": null,
            "flex_flow": null,
            "grid_area": null,
            "grid_auto_columns": null,
            "grid_auto_flow": null,
            "grid_auto_rows": null,
            "grid_column": null,
            "grid_gap": null,
            "grid_row": null,
            "grid_template_areas": null,
            "grid_template_columns": null,
            "grid_template_rows": null,
            "height": null,
            "justify_content": null,
            "justify_items": null,
            "left": null,
            "margin": null,
            "max_height": null,
            "max_width": null,
            "min_height": null,
            "min_width": null,
            "object_fit": null,
            "object_position": null,
            "order": null,
            "overflow": null,
            "overflow_x": null,
            "overflow_y": null,
            "padding": null,
            "right": null,
            "top": null,
            "visibility": null,
            "width": null
          }
        },
        "ea613f5012ca4feeb4a36507703262b7": {
          "model_module": "@jupyter-widgets/controls",
          "model_module_version": "1.5.0",
          "model_name": "HTMLModel",
          "state": {
            "_dom_classes": [],
            "_model_module": "@jupyter-widgets/controls",
            "_model_module_version": "1.5.0",
            "_model_name": "HTMLModel",
            "_view_count": null,
            "_view_module": "@jupyter-widgets/controls",
            "_view_module_version": "1.5.0",
            "_view_name": "HTMLView",
            "description": "",
            "description_tooltip": null,
            "layout": "IPY_MODEL_8fc486a8c5f043e689f31b392ee98c50",
            "placeholder": "​",
            "style": "IPY_MODEL_0c0be42720f14d8eaec23424162f9d19",
            "value": "100%"
          }
        },
        "f7bee37b43c94f2a9aef5e24a04ef9ea": {
          "model_module": "@jupyter-widgets/controls",
          "model_module_version": "1.5.0",
          "model_name": "ProgressStyleModel",
          "state": {
            "_model_module": "@jupyter-widgets/controls",
            "_model_module_version": "1.5.0",
            "_model_name": "ProgressStyleModel",
            "_view_count": null,
            "_view_module": "@jupyter-widgets/base",
            "_view_module_version": "1.2.0",
            "_view_name": "StyleView",
            "bar_color": null,
            "description_width": ""
          }
        },
        "f804eb8ecc8843009eb31fc1d1a63e6c": {
          "model_module": "@jupyter-widgets/base",
          "model_module_version": "1.2.0",
          "model_name": "LayoutModel",
          "state": {
            "_model_module": "@jupyter-widgets/base",
            "_model_module_version": "1.2.0",
            "_model_name": "LayoutModel",
            "_view_count": null,
            "_view_module": "@jupyter-widgets/base",
            "_view_module_version": "1.2.0",
            "_view_name": "LayoutView",
            "align_content": null,
            "align_items": null,
            "align_self": null,
            "border": null,
            "bottom": null,
            "display": null,
            "flex": null,
            "flex_flow": null,
            "grid_area": null,
            "grid_auto_columns": null,
            "grid_auto_flow": null,
            "grid_auto_rows": null,
            "grid_column": null,
            "grid_gap": null,
            "grid_row": null,
            "grid_template_areas": null,
            "grid_template_columns": null,
            "grid_template_rows": null,
            "height": null,
            "justify_content": null,
            "justify_items": null,
            "left": null,
            "margin": null,
            "max_height": null,
            "max_width": null,
            "min_height": null,
            "min_width": null,
            "object_fit": null,
            "object_position": null,
            "order": null,
            "overflow": null,
            "overflow_x": null,
            "overflow_y": null,
            "padding": null,
            "right": null,
            "top": null,
            "visibility": null,
            "width": null
          }
        }
      }
    }
  },
  "nbformat": 4,
  "nbformat_minor": 5
}
